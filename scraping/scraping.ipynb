{
 "cells": [
  {
   "cell_type": "markdown",
   "metadata": {},
   "source": [
    "# Import Library\n"
   ]
  },
  {
   "cell_type": "code",
   "execution_count": 6,
   "metadata": {},
   "outputs": [],
   "source": [
    "import shutil\n",
    "import requests\n",
    "import time\n",
    "import os\n",
    "import json\n",
    "import datetime\n",
    "import tqdm"
   ]
  },
  {
   "cell_type": "markdown",
   "metadata": {},
   "source": [
    "# Scraping\n",
    "\n",
    "- Scraping from MyAnimeList one by one are slow\n",
    "- Instead we scrape use database from jikan all thanks to https://github.com/andreu-vall/myanimelist-api-scraping/\n"
   ]
  },
  {
   "cell_type": "code",
   "execution_count": 8,
   "metadata": {},
   "outputs": [],
   "source": [
    "def merge_files(tmp_directory, database):\n",
    "\n",
    "    data = []\n",
    "    for file_name in os.listdir(tmp_directory):\n",
    "        file_path = os.path.join(tmp_directory, file_name)\n",
    "        with open(file_path, 'r') as f:\n",
    "            file = json.load(f)\n",
    "        data.extend(file)\n",
    "    \n",
    "    with open(f'../dataset/raw/{database}_jikan.json', 'w') as f:\n",
    "        json.dump(data, f, indent=4)\n",
    "    \n",
    "    shutil.rmtree(tmp_directory)"
   ]
  },
  {
   "cell_type": "code",
   "execution_count": 9,
   "metadata": {},
   "outputs": [],
   "source": [
    "api_url = 'https://api.jikan.moe/v4'\n",
    "\n",
    "def scrape_page(endpoint, page, file_path):\n",
    "    response = requests.get(api_url + endpoint + f'?page={page}')\n",
    "    response.raise_for_status()\n",
    "    data = response.json()\n",
    "    with open(file_path, 'w') as f:\n",
    "        json.dump(data['data'], f, indent=4)\n",
    "\n",
    "wait = 1.2\n",
    "\n",
    "def scrape_jikan_db(database):\n",
    "    tmp_directory = f'../dataset/raw/tmp_{database}_jikan'\n",
    "    os.makedirs(tmp_directory)\n",
    "    \n",
    "    last_page = requests.get(api_url + '/' + database).json()['pagination']['last_visible_page']\n",
    "    length = len(str(last_page))\n",
    "\n",
    "    start = datetime.datetime.now().strftime(\"%Y-%m-%d %H.%M.%S\")\n",
    "    print('Scraped at:', start)\n",
    "    \n",
    "    for page in tqdm.trange(1, last_page + 1):\n",
    "        start = time.perf_counter()\n",
    "        scrape_page('/' + database, page, tmp_directory + f'/page{str(page).zfill(length)}.json')\n",
    "        end = time.perf_counter()\n",
    "        time.sleep(max(0, start + wait - end))\n",
    "    \n",
    "    merge_files(tmp_directory, database)"
   ]
  },
  {
   "cell_type": "code",
   "execution_count": 11,
   "metadata": {},
   "outputs": [
    {
     "name": "stdout",
     "output_type": "stream",
     "text": [
      "Scraped at: 2025-01-15 14.34.02\n"
     ]
    },
    {
     "name": "stderr",
     "output_type": "stream",
     "text": [
      "100%|██████████| 1119/1119 [24:40<00:00,  1.32s/it]\n"
     ]
    }
   ],
   "source": [
    "scrape_jikan_db('anime')"
   ]
  }
 ],
 "metadata": {
  "kernelspec": {
   "display_name": "capstone",
   "language": "python",
   "name": "python3"
  },
  "language_info": {
   "codemirror_mode": {
    "name": "ipython",
    "version": 3
   },
   "file_extension": ".py",
   "mimetype": "text/x-python",
   "name": "python",
   "nbconvert_exporter": "python",
   "pygments_lexer": "ipython3",
   "version": "3.10.16"
  }
 },
 "nbformat": 4,
 "nbformat_minor": 2
}
