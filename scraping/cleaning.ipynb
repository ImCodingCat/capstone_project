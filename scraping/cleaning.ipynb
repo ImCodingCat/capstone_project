{
 "cells": [
  {
   "cell_type": "markdown",
   "metadata": {},
   "source": [
    "# Import Library\n"
   ]
  },
  {
   "cell_type": "code",
   "execution_count": 1,
   "metadata": {},
   "outputs": [],
   "source": [
    "import pandas as pd\n",
    "from datetime import datetime\n",
    "import json"
   ]
  },
  {
   "cell_type": "markdown",
   "metadata": {},
   "source": [
    "# Opening raw data"
   ]
  },
  {
   "cell_type": "code",
   "execution_count": 2,
   "metadata": {},
   "outputs": [],
   "source": [
    "with open('../dataset/raw/anime_jikan.json', 'r') as f:\n",
    "    raw_data = json.load(f)"
   ]
  },
  {
   "cell_type": "code",
   "execution_count": 3,
   "metadata": {},
   "outputs": [
    {
     "data": {
      "text/plain": [
       "{'mal_id': 1,\n",
       " 'url': 'https://myanimelist.net/anime/1/Cowboy_Bebop',\n",
       " 'images': {'jpg': {'image_url': 'https://cdn.myanimelist.net/images/anime/4/19644.jpg',\n",
       "   'small_image_url': 'https://cdn.myanimelist.net/images/anime/4/19644t.jpg',\n",
       "   'large_image_url': 'https://cdn.myanimelist.net/images/anime/4/19644l.jpg'},\n",
       "  'webp': {'image_url': 'https://cdn.myanimelist.net/images/anime/4/19644.webp',\n",
       "   'small_image_url': 'https://cdn.myanimelist.net/images/anime/4/19644t.webp',\n",
       "   'large_image_url': 'https://cdn.myanimelist.net/images/anime/4/19644l.webp'}},\n",
       " 'trailer': {'youtube_id': 'gY5nDXOtv_o',\n",
       "  'url': 'https://www.youtube.com/watch?v=gY5nDXOtv_o',\n",
       "  'embed_url': 'https://www.youtube.com/embed/gY5nDXOtv_o?enablejsapi=1&wmode=opaque&autoplay=1',\n",
       "  'images': {'image_url': 'https://img.youtube.com/vi/gY5nDXOtv_o/default.jpg',\n",
       "   'small_image_url': 'https://img.youtube.com/vi/gY5nDXOtv_o/sddefault.jpg',\n",
       "   'medium_image_url': 'https://img.youtube.com/vi/gY5nDXOtv_o/mqdefault.jpg',\n",
       "   'large_image_url': 'https://img.youtube.com/vi/gY5nDXOtv_o/hqdefault.jpg',\n",
       "   'maximum_image_url': 'https://img.youtube.com/vi/gY5nDXOtv_o/maxresdefault.jpg'}},\n",
       " 'approved': True,\n",
       " 'titles': [{'type': 'Default', 'title': 'Cowboy Bebop'},\n",
       "  {'type': 'Japanese', 'title': 'カウボーイビバップ'},\n",
       "  {'type': 'English', 'title': 'Cowboy Bebop'}],\n",
       " 'title': 'Cowboy Bebop',\n",
       " 'title_english': 'Cowboy Bebop',\n",
       " 'title_japanese': 'カウボーイビバップ',\n",
       " 'title_synonyms': [],\n",
       " 'type': 'TV',\n",
       " 'source': 'Original',\n",
       " 'episodes': 26,\n",
       " 'status': 'Finished Airing',\n",
       " 'airing': False,\n",
       " 'aired': {'from': '1998-04-03T00:00:00+00:00',\n",
       "  'to': '1999-04-24T00:00:00+00:00',\n",
       "  'prop': {'from': {'day': 3, 'month': 4, 'year': 1998},\n",
       "   'to': {'day': 24, 'month': 4, 'year': 1999}},\n",
       "  'string': 'Apr 3, 1998 to Apr 24, 1999'},\n",
       " 'duration': '24 min per ep',\n",
       " 'rating': 'R - 17+ (violence & profanity)',\n",
       " 'score': 8.75,\n",
       " 'scored_by': 999712,\n",
       " 'rank': 46,\n",
       " 'popularity': 43,\n",
       " 'members': 1935105,\n",
       " 'favorites': 85049,\n",
       " 'synopsis': \"Crime is timeless. By the year 2071, humanity has expanded across the galaxy, filling the surface of other planets with settlements like those on Earth. These new societies are plagued by murder, drug use, and theft, and intergalactic outlaws are hunted by a growing number of tough bounty hunters.\\n\\nSpike Spiegel and Jet Black pursue criminals throughout space to make a humble living. Beneath his goofy and aloof demeanor, Spike is haunted by the weight of his violent past. Meanwhile, Jet manages his own troubled memories while taking care of Spike and the Bebop, their ship. The duo is joined by the beautiful con artist Faye Valentine, odd child Edward Wong Hau Pepelu Tivrusky IV, and Ein, a bioengineered Welsh Corgi.\\n\\nWhile developing bonds and working to catch a colorful cast of criminals, the Bebop crew's lives are disrupted by a menace from Spike's past. As a rival's maniacal plot continues to unravel, Spike must choose between life with his newfound family or revenge for his old wounds.\\n\\n[Written by MAL Rewrite]\",\n",
       " 'background': 'When Cowboy Bebop first aired in spring of 1998 on TV Tokyo, only episodes 2-3, 7-15, and 18 were broadcast, it was concluded with a recap special known as Yose Atsume Blues. This was due to anime censorship having increased following the big controversies over Evangelion, as a result most of the series was pulled from the air due to violent content. Satellite channel WOWOW picked up the series in the fall of that year and aired it in its entirety uncensored. Cowboy Bebop was not a ratings hit in Japan, but sold over 19,000 DVD units in the initial release run, and 81,000 overall. Protagonist Spike Spiegel won Best Male Character, and Megumi Hayashibara won Best Voice Actor for her role as Faye Valentine in the 1999 and 2000 Anime Grand Prix, respectively. Cowboy Bebop\\'s biggest influence has been in the United States, where it premiered on Adult Swim in 2001 with many reruns since. The show\\'s heavy Western influence struck a chord with American viewers, where it became a \"gateway drug\" to anime aimed at adult audiences.',\n",
       " 'season': 'spring',\n",
       " 'year': 1998,\n",
       " 'broadcast': {'day': 'Saturdays',\n",
       "  'time': '01:00',\n",
       "  'timezone': 'Asia/Tokyo',\n",
       "  'string': 'Saturdays at 01:00 (JST)'},\n",
       " 'producers': [{'mal_id': 23,\n",
       "   'type': 'anime',\n",
       "   'name': 'Bandai Visual',\n",
       "   'url': 'https://myanimelist.net/anime/producer/23/Bandai_Visual'},\n",
       "  {'mal_id': 123,\n",
       "   'type': 'anime',\n",
       "   'name': 'Victor Entertainment',\n",
       "   'url': 'https://myanimelist.net/anime/producer/123/Victor_Entertainment'},\n",
       "  {'mal_id': 1506,\n",
       "   'type': 'anime',\n",
       "   'name': 'Audio Planning U',\n",
       "   'url': 'https://myanimelist.net/anime/producer/1506/Audio_Planning_U'}],\n",
       " 'licensors': [{'mal_id': 102,\n",
       "   'type': 'anime',\n",
       "   'name': 'Funimation',\n",
       "   'url': 'https://myanimelist.net/anime/producer/102/Funimation'}],\n",
       " 'studios': [{'mal_id': 14,\n",
       "   'type': 'anime',\n",
       "   'name': 'Sunrise',\n",
       "   'url': 'https://myanimelist.net/anime/producer/14/Sunrise'}],\n",
       " 'genres': [{'mal_id': 1,\n",
       "   'type': 'anime',\n",
       "   'name': 'Action',\n",
       "   'url': 'https://myanimelist.net/anime/genre/1/Action'},\n",
       "  {'mal_id': 46,\n",
       "   'type': 'anime',\n",
       "   'name': 'Award Winning',\n",
       "   'url': 'https://myanimelist.net/anime/genre/46/Award_Winning'},\n",
       "  {'mal_id': 24,\n",
       "   'type': 'anime',\n",
       "   'name': 'Sci-Fi',\n",
       "   'url': 'https://myanimelist.net/anime/genre/24/Sci-Fi'}],\n",
       " 'explicit_genres': [],\n",
       " 'themes': [{'mal_id': 50,\n",
       "   'type': 'anime',\n",
       "   'name': 'Adult Cast',\n",
       "   'url': 'https://myanimelist.net/anime/genre/50/Adult_Cast'},\n",
       "  {'mal_id': 29,\n",
       "   'type': 'anime',\n",
       "   'name': 'Space',\n",
       "   'url': 'https://myanimelist.net/anime/genre/29/Space'}],\n",
       " 'demographics': []}"
      ]
     },
     "execution_count": 3,
     "metadata": {},
     "output_type": "execute_result"
    }
   ],
   "source": [
    "raw_data[0]"
   ]
  },
  {
   "cell_type": "markdown",
   "metadata": {},
   "source": [
    "# Getting only required data\n",
    "\n",
    "- mal_id\n",
    "- title\n",
    "- title_english\n",
    "- type\n",
    "- source\n",
    "- episodes\n",
    "- status\n",
    "- airing\n",
    "- rating\n",
    "- score\n",
    "- rank\n",
    "- synopsis\n",
    "- season\n",
    "- year\n",
    "- studios\n",
    "- genres"
   ]
  },
  {
   "cell_type": "code",
   "execution_count": 4,
   "metadata": {},
   "outputs": [
    {
     "name": "stdout",
     "output_type": "stream",
     "text": [
      "Total anime: 27970\n"
     ]
    }
   ],
   "source": [
    "combined = []\n",
    "total_anime = len(raw_data)\n",
    "last_ranking = total_anime\n",
    "\n",
    "print(f'Total anime: {len(raw_data)}')\n",
    "for anime in raw_data:\n",
    "    anime_info = {\n",
    "        'id': anime['mal_id'],\n",
    "        'title': anime['title'],\n",
    "        'title_english': anime['title_english'] if anime['title_english'] else '',\n",
    "        'type': anime['type'] if anime['type'] else 'unknown',\n",
    "        'source': anime['source'],\n",
    "        'episodes': anime['episodes'] if anime['episodes'] else 0,\n",
    "        'status': anime['status'],\n",
    "        'airing': anime['airing'],\n",
    "        'rating': anime['rating'] if anime['rating'] else 'no_rating',\n",
    "        'score': anime['score'] if anime['score'] else 0,\n",
    "        'rank': anime['rank'],\n",
    "        'synopsis': anime['synopsis'] if anime['synopsis'] else '',\n",
    "        'season': anime['season'] if anime['season'] else '',\n",
    "        'year': anime['year'] if anime['year'] else anime['aired']['prop']['from']['year'], # Year is none? get from aired\n",
    "        'start': anime['aired']['from'] if anime['aired']['from'] else '',\n",
    "        'ending': anime['aired']['to'] if anime['aired']['to'] else '',\n",
    "        'studios': ';'.join([studio['name'] for studio in anime['studios']]), # a;b;c;d;e;f;g\n",
    "        'genres': ';'.join([genre['name'] for genre in anime['genres']]) # a;b;c;d;e;f;g\n",
    "    }\n",
    "\n",
    "    if not anime_info['year']:\n",
    "        anime_info['year'] = '0'\n",
    "\n",
    "    if not anime_info['rank']:\n",
    "        anime_info['rank'] = last_ranking\n",
    "        last_ranking += 1\n",
    "        \n",
    "    combined.append(anime_info)"
   ]
  },
  {
   "cell_type": "code",
   "execution_count": 5,
   "metadata": {},
   "outputs": [],
   "source": [
    "df = pd.DataFrame(combined)"
   ]
  },
  {
   "cell_type": "code",
   "execution_count": 6,
   "metadata": {},
   "outputs": [
    {
     "name": "stdout",
     "output_type": "stream",
     "text": [
      "Missing values: \n"
     ]
    },
    {
     "data": {
      "text/plain": [
       "id               0\n",
       "title            0\n",
       "title_english    0\n",
       "type             0\n",
       "source           0\n",
       "episodes         0\n",
       "status           0\n",
       "airing           0\n",
       "rating           0\n",
       "score            0\n",
       "rank             0\n",
       "synopsis         0\n",
       "season           0\n",
       "year             0\n",
       "start            0\n",
       "ending           0\n",
       "studios          0\n",
       "genres           0\n",
       "dtype: int64"
      ]
     },
     "execution_count": 6,
     "metadata": {},
     "output_type": "execute_result"
    }
   ],
   "source": [
    "print('Missing values: ')\n",
    "df.isna().sum()"
   ]
  },
  {
   "cell_type": "code",
   "execution_count": 7,
   "metadata": {},
   "outputs": [],
   "source": [
    "def format_time(iso_date):\n",
    "    if iso_date:\n",
    "        return datetime.fromisoformat(iso_date).strftime(\"%Y-%m-%d\")\n",
    "\n",
    "df['start'] = df['start'].apply(format_time)\n",
    "df['ending'] = df['ending'].apply(format_time)"
   ]
  },
  {
   "cell_type": "code",
   "execution_count": 8,
   "metadata": {},
   "outputs": [
    {
     "data": {
      "text/html": [
       "<div>\n",
       "<style scoped>\n",
       "    .dataframe tbody tr th:only-of-type {\n",
       "        vertical-align: middle;\n",
       "    }\n",
       "\n",
       "    .dataframe tbody tr th {\n",
       "        vertical-align: top;\n",
       "    }\n",
       "\n",
       "    .dataframe thead th {\n",
       "        text-align: right;\n",
       "    }\n",
       "</style>\n",
       "<table border=\"1\" class=\"dataframe\">\n",
       "  <thead>\n",
       "    <tr style=\"text-align: right;\">\n",
       "      <th></th>\n",
       "      <th>id</th>\n",
       "      <th>title</th>\n",
       "      <th>title_english</th>\n",
       "      <th>type</th>\n",
       "      <th>source</th>\n",
       "      <th>episodes</th>\n",
       "      <th>status</th>\n",
       "      <th>airing</th>\n",
       "      <th>rating</th>\n",
       "      <th>score</th>\n",
       "      <th>rank</th>\n",
       "      <th>synopsis</th>\n",
       "      <th>season</th>\n",
       "      <th>year</th>\n",
       "      <th>start</th>\n",
       "      <th>ending</th>\n",
       "      <th>studios</th>\n",
       "      <th>genres</th>\n",
       "    </tr>\n",
       "  </thead>\n",
       "  <tbody>\n",
       "    <tr>\n",
       "      <th>0</th>\n",
       "      <td>1</td>\n",
       "      <td>Cowboy Bebop</td>\n",
       "      <td>Cowboy Bebop</td>\n",
       "      <td>TV</td>\n",
       "      <td>Original</td>\n",
       "      <td>26</td>\n",
       "      <td>Finished Airing</td>\n",
       "      <td>False</td>\n",
       "      <td>R - 17+ (violence &amp; profanity)</td>\n",
       "      <td>8.75</td>\n",
       "      <td>46</td>\n",
       "      <td>Crime is timeless. By the year 2071, humanity ...</td>\n",
       "      <td>spring</td>\n",
       "      <td>1998</td>\n",
       "      <td>1998-04-03</td>\n",
       "      <td>1999-04-24</td>\n",
       "      <td>Sunrise</td>\n",
       "      <td>Action;Award Winning;Sci-Fi</td>\n",
       "    </tr>\n",
       "  </tbody>\n",
       "</table>\n",
       "</div>"
      ],
      "text/plain": [
       "   id         title title_english type    source  episodes           status  \\\n",
       "0   1  Cowboy Bebop  Cowboy Bebop   TV  Original        26  Finished Airing   \n",
       "\n",
       "   airing                          rating  score  rank  \\\n",
       "0   False  R - 17+ (violence & profanity)   8.75    46   \n",
       "\n",
       "                                            synopsis  season  year  \\\n",
       "0  Crime is timeless. By the year 2071, humanity ...  spring  1998   \n",
       "\n",
       "        start      ending  studios                       genres  \n",
       "0  1998-04-03  1999-04-24  Sunrise  Action;Award Winning;Sci-Fi  "
      ]
     },
     "execution_count": 8,
     "metadata": {},
     "output_type": "execute_result"
    }
   ],
   "source": [
    "df.head(1)"
   ]
  },
  {
   "cell_type": "markdown",
   "metadata": {},
   "source": [
    "# Export data"
   ]
  },
  {
   "cell_type": "code",
   "execution_count": 9,
   "metadata": {},
   "outputs": [
    {
     "name": "stdout",
     "output_type": "stream",
     "text": [
      "Exported 27970 Animes!\n"
     ]
    }
   ],
   "source": [
    "df.to_csv('../dataset/anime.csv', index=False)\n",
    "print(f'Exported {len(df)} Animes!')"
   ]
  }
 ],
 "metadata": {
  "kernelspec": {
   "display_name": "capstone",
   "language": "python",
   "name": "python3"
  },
  "language_info": {
   "codemirror_mode": {
    "name": "ipython",
    "version": 3
   },
   "file_extension": ".py",
   "mimetype": "text/x-python",
   "name": "python",
   "nbconvert_exporter": "python",
   "pygments_lexer": "ipython3",
   "version": "3.10.16"
  }
 },
 "nbformat": 4,
 "nbformat_minor": 2
}
