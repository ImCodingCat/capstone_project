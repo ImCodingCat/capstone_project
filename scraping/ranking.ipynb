{
 "cells": [
  {
   "cell_type": "markdown",
   "metadata": {},
   "source": [
    "# Import Library"
   ]
  },
  {
   "cell_type": "code",
   "execution_count": 1,
   "metadata": {},
   "outputs": [],
   "source": [
    "import pandas as pd\n",
    "from datetime import datetime\n",
    "import json"
   ]
  },
  {
   "cell_type": "markdown",
   "metadata": {},
   "source": [
    "# Opening existing dataset"
   ]
  },
  {
   "cell_type": "code",
   "execution_count": 5,
   "metadata": {},
   "outputs": [],
   "source": [
    "df = pd.read_csv('../dataset/anime.csv')"
   ]
  },
  {
   "cell_type": "code",
   "execution_count": 6,
   "metadata": {},
   "outputs": [
    {
     "data": {
      "text/html": [
       "<div>\n",
       "<style scoped>\n",
       "    .dataframe tbody tr th:only-of-type {\n",
       "        vertical-align: middle;\n",
       "    }\n",
       "\n",
       "    .dataframe tbody tr th {\n",
       "        vertical-align: top;\n",
       "    }\n",
       "\n",
       "    .dataframe thead th {\n",
       "        text-align: right;\n",
       "    }\n",
       "</style>\n",
       "<table border=\"1\" class=\"dataframe\">\n",
       "  <thead>\n",
       "    <tr style=\"text-align: right;\">\n",
       "      <th></th>\n",
       "      <th>id</th>\n",
       "      <th>episodes</th>\n",
       "      <th>score</th>\n",
       "      <th>year</th>\n",
       "    </tr>\n",
       "  </thead>\n",
       "  <tbody>\n",
       "    <tr>\n",
       "      <th>count</th>\n",
       "      <td>27970.000000</td>\n",
       "      <td>27970.000000</td>\n",
       "      <td>27970.000000</td>\n",
       "      <td>27970.000000</td>\n",
       "    </tr>\n",
       "    <tr>\n",
       "      <th>mean</th>\n",
       "      <td>32946.925098</td>\n",
       "      <td>13.892385</td>\n",
       "      <td>4.133053</td>\n",
       "      <td>1945.044333</td>\n",
       "    </tr>\n",
       "    <tr>\n",
       "      <th>std</th>\n",
       "      <td>19201.449107</td>\n",
       "      <td>47.052540</td>\n",
       "      <td>3.146225</td>\n",
       "      <td>352.316338</td>\n",
       "    </tr>\n",
       "    <tr>\n",
       "      <th>min</th>\n",
       "      <td>1.000000</td>\n",
       "      <td>0.000000</td>\n",
       "      <td>0.000000</td>\n",
       "      <td>0.000000</td>\n",
       "    </tr>\n",
       "    <tr>\n",
       "      <th>25%</th>\n",
       "      <td>13621.500000</td>\n",
       "      <td>1.000000</td>\n",
       "      <td>0.000000</td>\n",
       "      <td>2002.000000</td>\n",
       "    </tr>\n",
       "    <tr>\n",
       "      <th>50%</th>\n",
       "      <td>37153.500000</td>\n",
       "      <td>1.000000</td>\n",
       "      <td>5.710000</td>\n",
       "      <td>2013.000000</td>\n",
       "    </tr>\n",
       "    <tr>\n",
       "      <th>75%</th>\n",
       "      <td>48749.750000</td>\n",
       "      <td>13.000000</td>\n",
       "      <td>6.640000</td>\n",
       "      <td>2019.000000</td>\n",
       "    </tr>\n",
       "    <tr>\n",
       "      <th>max</th>\n",
       "      <td>60765.000000</td>\n",
       "      <td>3057.000000</td>\n",
       "      <td>9.310000</td>\n",
       "      <td>2027.000000</td>\n",
       "    </tr>\n",
       "  </tbody>\n",
       "</table>\n",
       "</div>"
      ],
      "text/plain": [
       "                 id      episodes         score          year\n",
       "count  27970.000000  27970.000000  27970.000000  27970.000000\n",
       "mean   32946.925098     13.892385      4.133053   1945.044333\n",
       "std    19201.449107     47.052540      3.146225    352.316338\n",
       "min        1.000000      0.000000      0.000000      0.000000\n",
       "25%    13621.500000      1.000000      0.000000   2002.000000\n",
       "50%    37153.500000      1.000000      5.710000   2013.000000\n",
       "75%    48749.750000     13.000000      6.640000   2019.000000\n",
       "max    60765.000000   3057.000000      9.310000   2027.000000"
      ]
     },
     "execution_count": 6,
     "metadata": {},
     "output_type": "execute_result"
    }
   ],
   "source": [
    "df.describe()"
   ]
  },
  {
   "cell_type": "code",
   "execution_count": 7,
   "metadata": {},
   "outputs": [
    {
     "name": "stdout",
     "output_type": "stream",
     "text": [
      "<class 'pandas.core.frame.DataFrame'>\n",
      "RangeIndex: 27970 entries, 0 to 27969\n",
      "Data columns (total 17 columns):\n",
      " #   Column         Non-Null Count  Dtype  \n",
      "---  ------         --------------  -----  \n",
      " 0   id             27970 non-null  int64  \n",
      " 1   title          27970 non-null  object \n",
      " 2   title_english  11947 non-null  object \n",
      " 3   type           27970 non-null  object \n",
      " 4   source         27970 non-null  object \n",
      " 5   episodes       27970 non-null  int64  \n",
      " 6   status         27970 non-null  object \n",
      " 7   airing         27970 non-null  bool   \n",
      " 8   rating         27970 non-null  object \n",
      " 9   score          27970 non-null  float64\n",
      " 10  synopsis       22999 non-null  object \n",
      " 11  season         6037 non-null   object \n",
      " 12  year           27970 non-null  int64  \n",
      " 13  start          27083 non-null  object \n",
      " 14  ending         27083 non-null  object \n",
      " 15  studios        16464 non-null  object \n",
      " 16  genres         22204 non-null  object \n",
      "dtypes: bool(1), float64(1), int64(3), object(12)\n",
      "memory usage: 3.4+ MB\n"
     ]
    }
   ],
   "source": [
    "df.info()"
   ]
  },
  {
   "cell_type": "code",
   "execution_count": null,
   "metadata": {},
   "outputs": [],
   "source": []
  }
 ],
 "metadata": {
  "kernelspec": {
   "display_name": "capstone",
   "language": "python",
   "name": "python3"
  },
  "language_info": {
   "codemirror_mode": {
    "name": "ipython",
    "version": 3
   },
   "file_extension": ".py",
   "mimetype": "text/x-python",
   "name": "python",
   "nbconvert_exporter": "python",
   "pygments_lexer": "ipython3",
   "version": "3.10.16"
  }
 },
 "nbformat": 4,
 "nbformat_minor": 2
}
