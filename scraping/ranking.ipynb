{
 "cells": [
  {
   "cell_type": "markdown",
   "metadata": {},
   "source": [
    "# Import Library"
   ]
  },
  {
   "cell_type": "code",
   "execution_count": 8,
   "metadata": {},
   "outputs": [],
   "source": [
    "import pandas as pd\n",
    "from datetime import datetime"
   ]
  },
  {
   "cell_type": "markdown",
   "metadata": {},
   "source": [
    "# Opening existing dataset"
   ]
  },
  {
   "cell_type": "code",
   "execution_count": 9,
   "metadata": {},
   "outputs": [],
   "source": [
    "df = pd.read_csv('../dataset/anime.csv')"
   ]
  },
  {
   "cell_type": "code",
   "execution_count": 10,
   "metadata": {},
   "outputs": [
    {
     "data": {
      "text/html": [
       "<div>\n",
       "<style scoped>\n",
       "    .dataframe tbody tr th:only-of-type {\n",
       "        vertical-align: middle;\n",
       "    }\n",
       "\n",
       "    .dataframe tbody tr th {\n",
       "        vertical-align: top;\n",
       "    }\n",
       "\n",
       "    .dataframe thead th {\n",
       "        text-align: right;\n",
       "    }\n",
       "</style>\n",
       "<table border=\"1\" class=\"dataframe\">\n",
       "  <thead>\n",
       "    <tr style=\"text-align: right;\">\n",
       "      <th></th>\n",
       "      <th>id</th>\n",
       "      <th>episodes</th>\n",
       "      <th>score</th>\n",
       "      <th>rank</th>\n",
       "      <th>scored_by</th>\n",
       "      <th>popularity</th>\n",
       "      <th>favorites</th>\n",
       "      <th>members</th>\n",
       "      <th>year</th>\n",
       "    </tr>\n",
       "  </thead>\n",
       "  <tbody>\n",
       "    <tr>\n",
       "      <th>count</th>\n",
       "      <td>27970.000000</td>\n",
       "      <td>27970.000000</td>\n",
       "      <td>27970.000000</td>\n",
       "      <td>27970.000000</td>\n",
       "      <td>2.797000e+04</td>\n",
       "      <td>27970.000000</td>\n",
       "      <td>27970.000000</td>\n",
       "      <td>2.797000e+04</td>\n",
       "      <td>27970.000000</td>\n",
       "    </tr>\n",
       "    <tr>\n",
       "      <th>mean</th>\n",
       "      <td>32946.925098</td>\n",
       "      <td>13.892385</td>\n",
       "      <td>4.133053</td>\n",
       "      <td>15512.718877</td>\n",
       "      <td>1.930531e+04</td>\n",
       "      <td>13914.858098</td>\n",
       "      <td>430.062066</td>\n",
       "      <td>3.817765e+04</td>\n",
       "      <td>1945.044333</td>\n",
       "    </tr>\n",
       "    <tr>\n",
       "      <th>std</th>\n",
       "      <td>19201.449107</td>\n",
       "      <td>47.052540</td>\n",
       "      <td>3.146225</td>\n",
       "      <td>10292.079528</td>\n",
       "      <td>9.785433e+04</td>\n",
       "      <td>8030.506690</td>\n",
       "      <td>4461.466758</td>\n",
       "      <td>1.642490e+05</td>\n",
       "      <td>352.316338</td>\n",
       "    </tr>\n",
       "    <tr>\n",
       "      <th>min</th>\n",
       "      <td>1.000000</td>\n",
       "      <td>0.000000</td>\n",
       "      <td>0.000000</td>\n",
       "      <td>1.000000</td>\n",
       "      <td>0.000000e+00</td>\n",
       "      <td>1.000000</td>\n",
       "      <td>0.000000</td>\n",
       "      <td>3.000000e+00</td>\n",
       "      <td>0.000000</td>\n",
       "    </tr>\n",
       "    <tr>\n",
       "      <th>25%</th>\n",
       "      <td>13621.500000</td>\n",
       "      <td>1.000000</td>\n",
       "      <td>0.000000</td>\n",
       "      <td>6980.500000</td>\n",
       "      <td>0.000000e+00</td>\n",
       "      <td>6963.500000</td>\n",
       "      <td>0.000000</td>\n",
       "      <td>2.260000e+02</td>\n",
       "      <td>2002.000000</td>\n",
       "    </tr>\n",
       "    <tr>\n",
       "      <th>50%</th>\n",
       "      <td>37153.500000</td>\n",
       "      <td>1.000000</td>\n",
       "      <td>5.710000</td>\n",
       "      <td>13969.500000</td>\n",
       "      <td>3.030000e+02</td>\n",
       "      <td>13903.000000</td>\n",
       "      <td>1.000000</td>\n",
       "      <td>1.069000e+03</td>\n",
       "      <td>2013.000000</td>\n",
       "    </tr>\n",
       "    <tr>\n",
       "      <th>75%</th>\n",
       "      <td>48749.750000</td>\n",
       "      <td>13.000000</td>\n",
       "      <td>6.640000</td>\n",
       "      <td>20941.750000</td>\n",
       "      <td>3.276000e+03</td>\n",
       "      <td>20867.000000</td>\n",
       "      <td>17.000000</td>\n",
       "      <td>9.179750e+03</td>\n",
       "      <td>2019.000000</td>\n",
       "    </tr>\n",
       "    <tr>\n",
       "      <th>max</th>\n",
       "      <td>60765.000000</td>\n",
       "      <td>3057.000000</td>\n",
       "      <td>9.310000</td>\n",
       "      <td>34532.000000</td>\n",
       "      <td>2.888357e+06</td>\n",
       "      <td>27835.000000</td>\n",
       "      <td>232468.000000</td>\n",
       "      <td>4.091374e+06</td>\n",
       "      <td>2027.000000</td>\n",
       "    </tr>\n",
       "  </tbody>\n",
       "</table>\n",
       "</div>"
      ],
      "text/plain": [
       "                 id      episodes         score          rank     scored_by  \\\n",
       "count  27970.000000  27970.000000  27970.000000  27970.000000  2.797000e+04   \n",
       "mean   32946.925098     13.892385      4.133053  15512.718877  1.930531e+04   \n",
       "std    19201.449107     47.052540      3.146225  10292.079528  9.785433e+04   \n",
       "min        1.000000      0.000000      0.000000      1.000000  0.000000e+00   \n",
       "25%    13621.500000      1.000000      0.000000   6980.500000  0.000000e+00   \n",
       "50%    37153.500000      1.000000      5.710000  13969.500000  3.030000e+02   \n",
       "75%    48749.750000     13.000000      6.640000  20941.750000  3.276000e+03   \n",
       "max    60765.000000   3057.000000      9.310000  34532.000000  2.888357e+06   \n",
       "\n",
       "         popularity      favorites       members          year  \n",
       "count  27970.000000   27970.000000  2.797000e+04  27970.000000  \n",
       "mean   13914.858098     430.062066  3.817765e+04   1945.044333  \n",
       "std     8030.506690    4461.466758  1.642490e+05    352.316338  \n",
       "min        1.000000       0.000000  3.000000e+00      0.000000  \n",
       "25%     6963.500000       0.000000  2.260000e+02   2002.000000  \n",
       "50%    13903.000000       1.000000  1.069000e+03   2013.000000  \n",
       "75%    20867.000000      17.000000  9.179750e+03   2019.000000  \n",
       "max    27835.000000  232468.000000  4.091374e+06   2027.000000  "
      ]
     },
     "execution_count": 10,
     "metadata": {},
     "output_type": "execute_result"
    }
   ],
   "source": [
    "df.describe()"
   ]
  },
  {
   "cell_type": "code",
   "execution_count": 11,
   "metadata": {},
   "outputs": [
    {
     "name": "stdout",
     "output_type": "stream",
     "text": [
      "<class 'pandas.core.frame.DataFrame'>\n",
      "RangeIndex: 27970 entries, 0 to 27969\n",
      "Data columns (total 22 columns):\n",
      " #   Column         Non-Null Count  Dtype  \n",
      "---  ------         --------------  -----  \n",
      " 0   id             27970 non-null  int64  \n",
      " 1   title          27970 non-null  object \n",
      " 2   title_english  11947 non-null  object \n",
      " 3   type           27970 non-null  object \n",
      " 4   source         27970 non-null  object \n",
      " 5   episodes       27970 non-null  int64  \n",
      " 6   status         27970 non-null  object \n",
      " 7   airing         27970 non-null  bool   \n",
      " 8   rating         27970 non-null  object \n",
      " 9   score          27970 non-null  float64\n",
      " 10  rank           27970 non-null  int64  \n",
      " 11  scored_by      27970 non-null  int64  \n",
      " 12  popularity     27970 non-null  int64  \n",
      " 13  favorites      27970 non-null  int64  \n",
      " 14  members        27970 non-null  int64  \n",
      " 15  synopsis       22999 non-null  object \n",
      " 16  season         6037 non-null   object \n",
      " 17  year           27970 non-null  int64  \n",
      " 18  start          27083 non-null  object \n",
      " 19  ending         10780 non-null  object \n",
      " 20  studios        16464 non-null  object \n",
      " 21  genres         22204 non-null  object \n",
      "dtypes: bool(1), float64(1), int64(8), object(12)\n",
      "memory usage: 4.5+ MB\n"
     ]
    }
   ],
   "source": [
    "df.info()"
   ]
  },
  {
   "cell_type": "code",
   "execution_count": 12,
   "metadata": {},
   "outputs": [
    {
     "data": {
      "text/plain": [
       "type\n",
       "TV            8203\n",
       "Movie         4766\n",
       "OVA           4157\n",
       "ONA           3861\n",
       "Music         3731\n",
       "Special       1769\n",
       "TV Special     737\n",
       "CM             434\n",
       "PV             231\n",
       "unknown         81\n",
       "Name: count, dtype: int64"
      ]
     },
     "execution_count": 12,
     "metadata": {},
     "output_type": "execute_result"
    }
   ],
   "source": [
    "types = df['type'].value_counts()\n",
    "types"
   ]
  },
  {
   "cell_type": "code",
   "execution_count": 13,
   "metadata": {},
   "outputs": [],
   "source": [
    "ranking_anime = {}\n",
    "\n",
    "for type in types.index:\n",
    "    anime_from_type = df[df['type'] == type]\n",
    "    ranking_anime[type] = anime_from_type"
   ]
  },
  {
   "cell_type": "markdown",
   "metadata": {},
   "source": [
    "# Export based on type"
   ]
  },
  {
   "cell_type": "code",
   "execution_count": 14,
   "metadata": {},
   "outputs": [
    {
     "name": "stdout",
     "output_type": "stream",
     "text": [
      "Exported 8203 anime for type TV\n",
      "Exported 4766 anime for type Movie\n",
      "Exported 4157 anime for type OVA\n",
      "Exported 3861 anime for type ONA\n",
      "Exported 3731 anime for type Music\n",
      "Exported 1769 anime for type Special\n",
      "Exported 737 anime for type TV Special\n",
      "Exported 434 anime for type CM\n",
      "Exported 231 anime for type PV\n",
      "Exported 81 anime for type unknown\n"
     ]
    }
   ],
   "source": [
    "for type in types.index:\n",
    "    type_df = ranking_anime[type]\n",
    "    type_df = type_df.sort_values(by='rank')\n",
    "\n",
    "    # Add ranking on each type\n",
    "    type_df[f'ranking'] = range(1, len(type_df) + 1)\n",
    "\n",
    "    # Export\n",
    "    type_df.to_csv(f'../dataset/ranking/anime_{type}.csv', index=False)\n",
    "    print(f'Exported {len(type_df)} anime for type {type}')"
   ]
  }
 ],
 "metadata": {
  "kernelspec": {
   "display_name": "capstone",
   "language": "python",
   "name": "python3"
  },
  "language_info": {
   "codemirror_mode": {
    "name": "ipython",
    "version": 3
   },
   "file_extension": ".py",
   "mimetype": "text/x-python",
   "name": "python",
   "nbconvert_exporter": "python",
   "pygments_lexer": "ipython3",
   "version": "3.10.16"
  }
 },
 "nbformat": 4,
 "nbformat_minor": 2
}
