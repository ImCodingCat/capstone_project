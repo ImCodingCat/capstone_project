{
 "cells": [
  {
   "cell_type": "markdown",
   "metadata": {},
   "source": [
    "# Capstone Project Data Science (mdavap)\n",
    "# Import Library"
   ]
  },
  {
   "cell_type": "code",
   "execution_count": 15,
   "metadata": {},
   "outputs": [
    {
     "data": {
      "text/plain": [
       "True"
      ]
     },
     "execution_count": 15,
     "metadata": {},
     "output_type": "execute_result"
    }
   ],
   "source": [
    "import sqlalchemy as db \n",
    "import pandas as pd\n",
    "import os\n",
    "from dotenv import load_dotenv\n",
    "\n",
    "load_dotenv()"
   ]
  },
  {
   "cell_type": "markdown",
   "metadata": {},
   "source": [
    "# Connect to database"
   ]
  },
  {
   "cell_type": "code",
   "execution_count": 16,
   "metadata": {},
   "outputs": [],
   "source": [
    "DB_URL = os.getenv('DB_URL')\n",
    "engine = db.create_engine(DB_URL, echo=True)"
   ]
  },
  {
   "cell_type": "markdown",
   "metadata": {},
   "source": [
    "# Import our dataset"
   ]
  },
  {
   "cell_type": "code",
   "execution_count": 17,
   "metadata": {},
   "outputs": [],
   "source": [
    "df = pd.read_csv(\"../dataset/anime.csv\")"
   ]
  },
  {
   "cell_type": "code",
   "execution_count": 18,
   "metadata": {},
   "outputs": [
    {
     "data": {
      "text/plain": [
       "Index(['id', 'title', 'title_english', 'type', 'source', 'episodes', 'status',\n",
       "       'airing', 'rating', 'score', 'rank', 'scored_by', 'popularity',\n",
       "       'favorites', 'members', 'synopsis', 'season', 'year', 'start', 'ending',\n",
       "       'studios', 'genres'],\n",
       "      dtype='object')"
      ]
     },
     "execution_count": 18,
     "metadata": {},
     "output_type": "execute_result"
    }
   ],
   "source": [
    "df.columns"
   ]
  },
  {
   "cell_type": "markdown",
   "metadata": {},
   "source": [
    "# Create tables\n",
    "- anime\n",
    "    - id (primary key) (integer)\n",
    "    - mal_id (integer)\n",
    "    - title (string)\n",
    "    - title_english (string)\n",
    "    - type (string)\n",
    "    - source (string)\n",
    "    - episodes (integer)\n",
    "    - status (string)\n",
    "    - airing (boolean)\n",
    "    - rating (string)\n",
    "    - score (float)\n",
    "    - rank (integer)\n",
    "    - scored_by (integer)\n",
    "    - popularity (integer)\n",
    "    - favorites (integer)\n",
    "    - members (integer)\n",
    "    - season (string)\n",
    "    - year (integer)\n",
    "    - start (string) (date)\n",
    "    - ending (string) (date)\n",
    "    - synopsis (string)"
   ]
  },
  {
   "cell_type": "code",
   "execution_count": 27,
   "metadata": {},
   "outputs": [],
   "source": [
    "metadata_obj = db.MetaData() \n",
    "\n",
    "anime_table = db.Table( \n",
    "    'anime',\n",
    "    metadata_obj,\n",
    "    db.Column('id', db.Integer, primary_key=True),   \n",
    "    db.Column('mal_id', db.Integer),\n",
    "    db.Column('title', db.Text),\n",
    "    db.Column('title_english', db.Text),\n",
    "    db.Column('type', db.Text),\n",
    "    db.Column('source', db.Text),\n",
    "    db.Column('episodes', db.Integer),\n",
    "    db.Column('status', db.Text),\n",
    "    db.Column('airing', db.Boolean),\n",
    "    db.Column('rating', db.Text),\n",
    "    db.Column('score', db.Float),\n",
    "    db.Column('rank', db.Integer),\n",
    "    db.Column('scored_by', db.Integer),\n",
    "    db.Column('popularity', db.Integer),\n",
    "    db.Column('favorites', db.Integer),\n",
    "    db.Column('members', db.Integer),\n",
    "    db.Column('seasons', db.Text),\n",
    "    db.Column('year', db.Integer),\n",
    "    db.Column('start', db.Date),\n",
    "    db.Column('ending', db.Date),\n",
    "    db.Column('synopsis', db.Text)\n",
    ") "
   ]
  },
  {
   "cell_type": "markdown",
   "metadata": {},
   "source": [
    "- genre_name\n",
    "    - id (primary key) (integer)\n",
    "    - name (string)\n",
    "\n",
    "- studio_name\n",
    "    - id (primary key) (integer)\n",
    "    - name (string)"
   ]
  },
  {
   "cell_type": "code",
   "execution_count": 28,
   "metadata": {},
   "outputs": [],
   "source": [
    "genre_name_table = db.Table( \n",
    "    'genre_name',\n",
    "    metadata_obj,\n",
    "    db.Column('id', db.Integer, primary_key=True),   \n",
    "    db.Column('name', db.Text),\n",
    ")\n",
    "\n",
    "studio_name_table = db.Table( \n",
    "    'studio_name',\n",
    "    metadata_obj,\n",
    "    db.Column('id', db.Integer, primary_key=True),   \n",
    "    db.Column('name', db.Text),\n",
    ")"
   ]
  },
  {
   "cell_type": "markdown",
   "metadata": {},
   "source": [
    "- genres\n",
    "    - id (primary key) (integer)\n",
    "    - anime_id (foreign key -> anime.id) (integer)\n",
    "    - genre_id (foreign key -> genre_name.id) (integer)\n",
    "\n",
    "- studios\n",
    "    - id (primary key) (integer)\n",
    "    - anime_id (foreign key -> anime.id) (integer)\n",
    "    - studio_id (foreign key -> studio_name.id) (integer)"
   ]
  },
  {
   "cell_type": "code",
   "execution_count": 29,
   "metadata": {},
   "outputs": [],
   "source": [
    "genres_table = db.Table( \n",
    "    'genres',\n",
    "    metadata_obj,\n",
    "    db.Column('id', db.Integer, primary_key=True),  \n",
    "    db.Column('anime_id', db.Integer, db.ForeignKey('anime.id')),   \n",
    "    db.Column('genre_id', db.Integer, db.ForeignKey('genre_name.id')),   \n",
    ")\n",
    "\n",
    "studios_table = db.Table( \n",
    "    'studios',\n",
    "    metadata_obj,\n",
    "    db.Column('id', db.Integer, primary_key=True),  \n",
    "    db.Column('anime_id', db.Integer, db.ForeignKey('anime.id')),   \n",
    "    db.Column('studio_id', db.Integer, db.ForeignKey('studio_name.id')),   \n",
    ")"
   ]
  },
  {
   "cell_type": "code",
   "execution_count": 30,
   "metadata": {},
   "outputs": [
    {
     "name": "stdout",
     "output_type": "stream",
     "text": [
      "2025-01-18 14:52:58,475 INFO sqlalchemy.engine.Engine BEGIN (implicit)\n",
      "2025-01-18 14:52:58,477 INFO sqlalchemy.engine.Engine SELECT pg_catalog.pg_class.relname \n",
      "FROM pg_catalog.pg_class JOIN pg_catalog.pg_namespace ON pg_catalog.pg_namespace.oid = pg_catalog.pg_class.relnamespace \n",
      "WHERE pg_catalog.pg_class.relname = %(table_name)s AND pg_catalog.pg_class.relkind = ANY (ARRAY[%(param_1)s, %(param_2)s, %(param_3)s, %(param_4)s, %(param_5)s]) AND pg_catalog.pg_table_is_visible(pg_catalog.pg_class.oid) AND pg_catalog.pg_namespace.nspname != %(nspname_1)s\n",
      "2025-01-18 14:52:58,477 INFO sqlalchemy.engine.Engine [cached since 1041s ago] {'table_name': 'anime', 'param_1': 'r', 'param_2': 'p', 'param_3': 'f', 'param_4': 'v', 'param_5': 'm', 'nspname_1': 'pg_catalog'}\n",
      "2025-01-18 14:52:58,527 INFO sqlalchemy.engine.Engine SELECT pg_catalog.pg_class.relname \n",
      "FROM pg_catalog.pg_class JOIN pg_catalog.pg_namespace ON pg_catalog.pg_namespace.oid = pg_catalog.pg_class.relnamespace \n",
      "WHERE pg_catalog.pg_class.relname = %(table_name)s AND pg_catalog.pg_class.relkind = ANY (ARRAY[%(param_1)s, %(param_2)s, %(param_3)s, %(param_4)s, %(param_5)s]) AND pg_catalog.pg_table_is_visible(pg_catalog.pg_class.oid) AND pg_catalog.pg_namespace.nspname != %(nspname_1)s\n",
      "2025-01-18 14:52:58,528 INFO sqlalchemy.engine.Engine [cached since 1041s ago] {'table_name': 'genre_name', 'param_1': 'r', 'param_2': 'p', 'param_3': 'f', 'param_4': 'v', 'param_5': 'm', 'nspname_1': 'pg_catalog'}\n",
      "2025-01-18 14:52:58,551 INFO sqlalchemy.engine.Engine SELECT pg_catalog.pg_class.relname \n",
      "FROM pg_catalog.pg_class JOIN pg_catalog.pg_namespace ON pg_catalog.pg_namespace.oid = pg_catalog.pg_class.relnamespace \n",
      "WHERE pg_catalog.pg_class.relname = %(table_name)s AND pg_catalog.pg_class.relkind = ANY (ARRAY[%(param_1)s, %(param_2)s, %(param_3)s, %(param_4)s, %(param_5)s]) AND pg_catalog.pg_table_is_visible(pg_catalog.pg_class.oid) AND pg_catalog.pg_namespace.nspname != %(nspname_1)s\n",
      "2025-01-18 14:52:58,553 INFO sqlalchemy.engine.Engine [cached since 1041s ago] {'table_name': 'studio_name', 'param_1': 'r', 'param_2': 'p', 'param_3': 'f', 'param_4': 'v', 'param_5': 'm', 'nspname_1': 'pg_catalog'}\n",
      "2025-01-18 14:52:58,577 INFO sqlalchemy.engine.Engine SELECT pg_catalog.pg_class.relname \n",
      "FROM pg_catalog.pg_class JOIN pg_catalog.pg_namespace ON pg_catalog.pg_namespace.oid = pg_catalog.pg_class.relnamespace \n",
      "WHERE pg_catalog.pg_class.relname = %(table_name)s AND pg_catalog.pg_class.relkind = ANY (ARRAY[%(param_1)s, %(param_2)s, %(param_3)s, %(param_4)s, %(param_5)s]) AND pg_catalog.pg_table_is_visible(pg_catalog.pg_class.oid) AND pg_catalog.pg_namespace.nspname != %(nspname_1)s\n",
      "2025-01-18 14:52:58,578 INFO sqlalchemy.engine.Engine [cached since 1041s ago] {'table_name': 'genres', 'param_1': 'r', 'param_2': 'p', 'param_3': 'f', 'param_4': 'v', 'param_5': 'm', 'nspname_1': 'pg_catalog'}\n",
      "2025-01-18 14:52:58,601 INFO sqlalchemy.engine.Engine SELECT pg_catalog.pg_class.relname \n",
      "FROM pg_catalog.pg_class JOIN pg_catalog.pg_namespace ON pg_catalog.pg_namespace.oid = pg_catalog.pg_class.relnamespace \n",
      "WHERE pg_catalog.pg_class.relname = %(table_name)s AND pg_catalog.pg_class.relkind = ANY (ARRAY[%(param_1)s, %(param_2)s, %(param_3)s, %(param_4)s, %(param_5)s]) AND pg_catalog.pg_table_is_visible(pg_catalog.pg_class.oid) AND pg_catalog.pg_namespace.nspname != %(nspname_1)s\n",
      "2025-01-18 14:52:58,601 INFO sqlalchemy.engine.Engine [cached since 1041s ago] {'table_name': 'studios', 'param_1': 'r', 'param_2': 'p', 'param_3': 'f', 'param_4': 'v', 'param_5': 'm', 'nspname_1': 'pg_catalog'}\n",
      "2025-01-18 14:52:58,626 INFO sqlalchemy.engine.Engine \n",
      "CREATE TABLE anime (\n",
      "\tid SERIAL NOT NULL, \n",
      "\tmal_id INTEGER, \n",
      "\ttitle TEXT, \n",
      "\ttitle_english TEXT, \n",
      "\ttype TEXT, \n",
      "\tsource TEXT, \n",
      "\tepisodes INTEGER, \n",
      "\tstatus TEXT, \n",
      "\tairing BOOLEAN, \n",
      "\trating TEXT, \n",
      "\tscore FLOAT, \n",
      "\trank INTEGER, \n",
      "\tscored_by INTEGER, \n",
      "\tpopularity INTEGER, \n",
      "\tfavorites INTEGER, \n",
      "\tmembers INTEGER, \n",
      "\tseasons TEXT, \n",
      "\tyear INTEGER, \n",
      "\tstart DATE, \n",
      "\tending DATE, \n",
      "\tsynopsis TEXT, \n",
      "\tPRIMARY KEY (id)\n",
      ")\n",
      "\n",
      "\n",
      "2025-01-18 14:52:58,626 INFO sqlalchemy.engine.Engine [no key 0.00077s] {}\n",
      "2025-01-18 14:52:58,655 INFO sqlalchemy.engine.Engine \n",
      "CREATE TABLE genre_name (\n",
      "\tid SERIAL NOT NULL, \n",
      "\tname TEXT, \n",
      "\tPRIMARY KEY (id)\n",
      ")\n",
      "\n",
      "\n",
      "2025-01-18 14:52:58,656 INFO sqlalchemy.engine.Engine [no key 0.00075s] {}\n",
      "2025-01-18 14:52:58,686 INFO sqlalchemy.engine.Engine \n",
      "CREATE TABLE studio_name (\n",
      "\tid SERIAL NOT NULL, \n",
      "\tname TEXT, \n",
      "\tPRIMARY KEY (id)\n",
      ")\n",
      "\n",
      "\n",
      "2025-01-18 14:52:58,687 INFO sqlalchemy.engine.Engine [no key 0.00101s] {}\n",
      "2025-01-18 14:52:58,716 INFO sqlalchemy.engine.Engine \n",
      "CREATE TABLE genres (\n",
      "\tid SERIAL NOT NULL, \n",
      "\tanime_id INTEGER, \n",
      "\tgenre_id INTEGER, \n",
      "\tPRIMARY KEY (id), \n",
      "\tFOREIGN KEY(anime_id) REFERENCES anime (id), \n",
      "\tFOREIGN KEY(genre_id) REFERENCES genre_name (id)\n",
      ")\n",
      "\n",
      "\n",
      "2025-01-18 14:52:58,717 INFO sqlalchemy.engine.Engine [no key 0.00093s] {}\n",
      "2025-01-18 14:52:58,751 INFO sqlalchemy.engine.Engine \n",
      "CREATE TABLE studios (\n",
      "\tid SERIAL NOT NULL, \n",
      "\tanime_id INTEGER, \n",
      "\tstudio_id INTEGER, \n",
      "\tPRIMARY KEY (id), \n",
      "\tFOREIGN KEY(anime_id) REFERENCES anime (id), \n",
      "\tFOREIGN KEY(studio_id) REFERENCES studio_name (id)\n",
      ")\n",
      "\n",
      "\n",
      "2025-01-18 14:52:58,752 INFO sqlalchemy.engine.Engine [no key 0.00110s] {}\n",
      "2025-01-18 14:52:58,792 INFO sqlalchemy.engine.Engine COMMIT\n"
     ]
    }
   ],
   "source": [
    "metadata_obj.create_all(engine)"
   ]
  },
  {
   "cell_type": "code",
   "execution_count": null,
   "metadata": {},
   "outputs": [],
   "source": []
  }
 ],
 "metadata": {
  "kernelspec": {
   "display_name": "capstone",
   "language": "python",
   "name": "python3"
  },
  "language_info": {
   "codemirror_mode": {
    "name": "ipython",
    "version": 3
   },
   "file_extension": ".py",
   "mimetype": "text/x-python",
   "name": "python",
   "nbconvert_exporter": "python",
   "pygments_lexer": "ipython3",
   "version": "3.10.16"
  }
 },
 "nbformat": 4,
 "nbformat_minor": 2
}
